{
 "cells": [
  {
   "cell_type": "code",
   "execution_count": 1,
   "id": "cbbe72f3-3f56-433c-ad98-6a04dac141ab",
   "metadata": {},
   "outputs": [],
   "source": [
    "import pandas as pd\n",
    "import numpy as np"
   ]
  },
  {
   "cell_type": "code",
   "execution_count": 2,
   "id": "9f763edf-4ebe-4a13-a504-642a81680b5c",
   "metadata": {},
   "outputs": [],
   "source": [
    "df = pd.read_csv(\"cell_samples.csv\")"
   ]
  },
  {
   "cell_type": "code",
   "execution_count": 3,
   "id": "b8d1eb8f-8b6e-4053-8fec-8c7253fc40f8",
   "metadata": {},
   "outputs": [
    {
     "data": {
      "text/html": [
       "<div>\n",
       "<style scoped>\n",
       "    .dataframe tbody tr th:only-of-type {\n",
       "        vertical-align: middle;\n",
       "    }\n",
       "\n",
       "    .dataframe tbody tr th {\n",
       "        vertical-align: top;\n",
       "    }\n",
       "\n",
       "    .dataframe thead th {\n",
       "        text-align: right;\n",
       "    }\n",
       "</style>\n",
       "<table border=\"1\" class=\"dataframe\">\n",
       "  <thead>\n",
       "    <tr style=\"text-align: right;\">\n",
       "      <th></th>\n",
       "      <th>ID</th>\n",
       "      <th>Clump</th>\n",
       "      <th>UnifSize</th>\n",
       "      <th>UnifShape</th>\n",
       "      <th>MargAdh</th>\n",
       "      <th>SingEpiSize</th>\n",
       "      <th>BareNuc</th>\n",
       "      <th>BlandChrom</th>\n",
       "      <th>NormNucl</th>\n",
       "      <th>Mit</th>\n",
       "      <th>Class</th>\n",
       "    </tr>\n",
       "  </thead>\n",
       "  <tbody>\n",
       "    <tr>\n",
       "      <th>0</th>\n",
       "      <td>1000025</td>\n",
       "      <td>5</td>\n",
       "      <td>1</td>\n",
       "      <td>1</td>\n",
       "      <td>1</td>\n",
       "      <td>2</td>\n",
       "      <td>1</td>\n",
       "      <td>3</td>\n",
       "      <td>1</td>\n",
       "      <td>1</td>\n",
       "      <td>2</td>\n",
       "    </tr>\n",
       "    <tr>\n",
       "      <th>1</th>\n",
       "      <td>1002945</td>\n",
       "      <td>5</td>\n",
       "      <td>4</td>\n",
       "      <td>4</td>\n",
       "      <td>5</td>\n",
       "      <td>7</td>\n",
       "      <td>10</td>\n",
       "      <td>3</td>\n",
       "      <td>2</td>\n",
       "      <td>1</td>\n",
       "      <td>2</td>\n",
       "    </tr>\n",
       "    <tr>\n",
       "      <th>2</th>\n",
       "      <td>1015425</td>\n",
       "      <td>3</td>\n",
       "      <td>1</td>\n",
       "      <td>1</td>\n",
       "      <td>1</td>\n",
       "      <td>2</td>\n",
       "      <td>2</td>\n",
       "      <td>3</td>\n",
       "      <td>1</td>\n",
       "      <td>1</td>\n",
       "      <td>2</td>\n",
       "    </tr>\n",
       "    <tr>\n",
       "      <th>3</th>\n",
       "      <td>1016277</td>\n",
       "      <td>6</td>\n",
       "      <td>8</td>\n",
       "      <td>8</td>\n",
       "      <td>1</td>\n",
       "      <td>3</td>\n",
       "      <td>4</td>\n",
       "      <td>3</td>\n",
       "      <td>7</td>\n",
       "      <td>1</td>\n",
       "      <td>2</td>\n",
       "    </tr>\n",
       "    <tr>\n",
       "      <th>4</th>\n",
       "      <td>1017023</td>\n",
       "      <td>4</td>\n",
       "      <td>1</td>\n",
       "      <td>1</td>\n",
       "      <td>3</td>\n",
       "      <td>2</td>\n",
       "      <td>1</td>\n",
       "      <td>3</td>\n",
       "      <td>1</td>\n",
       "      <td>1</td>\n",
       "      <td>2</td>\n",
       "    </tr>\n",
       "  </tbody>\n",
       "</table>\n",
       "</div>"
      ],
      "text/plain": [
       "        ID  Clump  UnifSize  UnifShape  MargAdh  SingEpiSize BareNuc  \\\n",
       "0  1000025      5         1          1        1            2       1   \n",
       "1  1002945      5         4          4        5            7      10   \n",
       "2  1015425      3         1          1        1            2       2   \n",
       "3  1016277      6         8          8        1            3       4   \n",
       "4  1017023      4         1          1        3            2       1   \n",
       "\n",
       "   BlandChrom  NormNucl  Mit  Class  \n",
       "0           3         1    1      2  \n",
       "1           3         2    1      2  \n",
       "2           3         1    1      2  \n",
       "3           3         7    1      2  \n",
       "4           3         1    1      2  "
      ]
     },
     "execution_count": 3,
     "metadata": {},
     "output_type": "execute_result"
    }
   ],
   "source": [
    "df.head()"
   ]
  },
  {
   "cell_type": "code",
   "execution_count": 4,
   "id": "f369981a-5cc2-4936-a73d-60259f9dffd1",
   "metadata": {},
   "outputs": [
    {
     "name": "stdout",
     "output_type": "stream",
     "text": [
      "<class 'pandas.core.frame.DataFrame'>\n",
      "RangeIndex: 699 entries, 0 to 698\n",
      "Data columns (total 11 columns):\n",
      " #   Column       Non-Null Count  Dtype \n",
      "---  ------       --------------  ----- \n",
      " 0   ID           699 non-null    int64 \n",
      " 1   Clump        699 non-null    int64 \n",
      " 2   UnifSize     699 non-null    int64 \n",
      " 3   UnifShape    699 non-null    int64 \n",
      " 4   MargAdh      699 non-null    int64 \n",
      " 5   SingEpiSize  699 non-null    int64 \n",
      " 6   BareNuc      699 non-null    object\n",
      " 7   BlandChrom   699 non-null    int64 \n",
      " 8   NormNucl     699 non-null    int64 \n",
      " 9   Mit          699 non-null    int64 \n",
      " 10  Class        699 non-null    int64 \n",
      "dtypes: int64(10), object(1)\n",
      "memory usage: 60.2+ KB\n"
     ]
    }
   ],
   "source": [
    "df.info()"
   ]
  },
  {
   "cell_type": "code",
   "execution_count": 5,
   "id": "94232ed4-96db-4896-a171-0f4713889e5b",
   "metadata": {},
   "outputs": [],
   "source": [
    "df['BareNuc'] = (pd.to_numeric(df['BareNuc'], errors='coerce')).notnull()  #Convert object to numeric"
   ]
  },
  {
   "cell_type": "code",
   "execution_count": 6,
   "id": "a8cd7670-afde-406a-bdf2-0efffe54a314",
   "metadata": {},
   "outputs": [],
   "source": [
    "df['BareNuc'] = df['BareNuc'].astype(int) #Convert numeric to int"
   ]
  },
  {
   "cell_type": "code",
   "execution_count": null,
   "id": "76d8719f-cdfa-432e-87a9-c18623c10047",
   "metadata": {},
   "outputs": [],
   "source": []
  },
  {
   "cell_type": "code",
   "execution_count": 7,
   "id": "0f8bb2af-bb1e-420d-a2cb-3badf49f6e71",
   "metadata": {},
   "outputs": [],
   "source": [
    "#Applying Variance"
   ]
  },
  {
   "cell_type": "code",
   "execution_count": 8,
   "id": "8e902800-3ef2-47a8-9ebf-2f060e8f81b2",
   "metadata": {},
   "outputs": [],
   "source": [
    "from sklearn.feature_selection import VarianceThreshold"
   ]
  },
  {
   "cell_type": "code",
   "execution_count": 9,
   "id": "46886be4-03a5-439c-bb8a-db7856a2063c",
   "metadata": {},
   "outputs": [],
   "source": [
    "vart = VarianceThreshold(threshold=0.5)"
   ]
  },
  {
   "cell_type": "code",
   "execution_count": 10,
   "id": "d21c3aa9-02e4-46cb-895a-e6c580ebb6f4",
   "metadata": {},
   "outputs": [],
   "source": [
    "op = vart.fit(df)"
   ]
  },
  {
   "cell_type": "code",
   "execution_count": 11,
   "id": "4c4194b5-15d4-4389-a95a-32349c0f30eb",
   "metadata": {},
   "outputs": [
    {
     "data": {
      "text/plain": [
       "array([ True,  True,  True,  True,  True,  True, False,  True,  True,\n",
       "        True,  True])"
      ]
     },
     "execution_count": 11,
     "metadata": {},
     "output_type": "execute_result"
    }
   ],
   "source": [
    "op.get_support()"
   ]
  },
  {
   "cell_type": "code",
   "execution_count": 12,
   "id": "2952f9f5-80e2-4c2f-a3e0-086feb38ae78",
   "metadata": {},
   "outputs": [
    {
     "data": {
      "text/plain": [
       "Index(['BareNuc'], dtype='object')"
      ]
     },
     "execution_count": 12,
     "metadata": {},
     "output_type": "execute_result"
    }
   ],
   "source": [
    "c_names = df.columns[op.get_support()==False]\n",
    "c_names"
   ]
  },
  {
   "cell_type": "code",
   "execution_count": 13,
   "id": "a4494d9b-419f-4754-a80f-d99d4342ab1f",
   "metadata": {},
   "outputs": [],
   "source": [
    "df.drop(c_names, axis=1, inplace=True)"
   ]
  },
  {
   "cell_type": "code",
   "execution_count": 14,
   "id": "dcf8057c-614b-4175-9ea8-0475a5b24b44",
   "metadata": {},
   "outputs": [],
   "source": [
    "cdf = df['Class']"
   ]
  },
  {
   "cell_type": "code",
   "execution_count": 15,
   "id": "18822ee1-38f1-41d5-beeb-86e42639838b",
   "metadata": {},
   "outputs": [],
   "source": [
    "df.drop('Class', axis=1, inplace=True)"
   ]
  },
  {
   "cell_type": "code",
   "execution_count": null,
   "id": "20ba1b65-b21a-42bd-bd16-0091d7087284",
   "metadata": {},
   "outputs": [],
   "source": []
  },
  {
   "cell_type": "code",
   "execution_count": 16,
   "id": "7b87dac8-efcb-4e19-8957-8e2ba974a033",
   "metadata": {},
   "outputs": [],
   "source": [
    "#Applying MIC"
   ]
  },
  {
   "cell_type": "code",
   "execution_count": 17,
   "id": "d3a9fc9c-cbb8-4d54-890a-d86df9441925",
   "metadata": {},
   "outputs": [],
   "source": [
    "from sklearn.feature_selection import mutual_info_classif"
   ]
  },
  {
   "cell_type": "code",
   "execution_count": 18,
   "id": "2fdf87e9-621b-43f1-bd3c-19b411c942b8",
   "metadata": {},
   "outputs": [],
   "source": [
    "MIC = mutual_info_classif(df, cdf)"
   ]
  },
  {
   "cell_type": "code",
   "execution_count": 19,
   "id": "8c9d8dbe-6aa2-4090-9fe7-93005219b566",
   "metadata": {},
   "outputs": [
    {
     "data": {
      "text/plain": [
       "array([0.05306316, 0.32884256, 0.46816718, 0.45692754, 0.31217963,\n",
       "       0.35669666, 0.39134695, 0.3355688 , 0.14600154])"
      ]
     },
     "execution_count": 19,
     "metadata": {},
     "output_type": "execute_result"
    }
   ],
   "source": [
    "MIC"
   ]
  },
  {
   "cell_type": "code",
   "execution_count": 20,
   "id": "0f83279e-3cdb-4ed8-a54f-da499aa0abce",
   "metadata": {},
   "outputs": [
    {
     "data": {
      "text/plain": [
       "0    0.053063\n",
       "1    0.328843\n",
       "2    0.468167\n",
       "3    0.456928\n",
       "4    0.312180\n",
       "5    0.356697\n",
       "6    0.391347\n",
       "7    0.335569\n",
       "8    0.146002\n",
       "dtype: float64"
      ]
     },
     "execution_count": 20,
     "metadata": {},
     "output_type": "execute_result"
    }
   ],
   "source": [
    "mic_series = pd.Series(MIC)\n",
    "mic_series"
   ]
  },
  {
   "cell_type": "code",
   "execution_count": 21,
   "id": "e365eddd-7129-470b-971e-b478c39b8341",
   "metadata": {},
   "outputs": [
    {
     "data": {
      "text/plain": [
       "Index(['ID', 'Clump', 'UnifSize', 'UnifShape', 'MargAdh', 'SingEpiSize',\n",
       "       'BlandChrom', 'NormNucl', 'Mit'],\n",
       "      dtype='object')"
      ]
     },
     "execution_count": 21,
     "metadata": {},
     "output_type": "execute_result"
    }
   ],
   "source": [
    "cl_names = df.columns\n",
    "cl_names"
   ]
  },
  {
   "cell_type": "code",
   "execution_count": 22,
   "id": "9fa1bdd8-28f3-4918-9114-c6e83e4db205",
   "metadata": {},
   "outputs": [],
   "source": [
    "mic_series.index = cl_names"
   ]
  },
  {
   "cell_type": "code",
   "execution_count": 23,
   "id": "0e1acd6b-92a7-48e7-b81c-8804cf5d253b",
   "metadata": {},
   "outputs": [
    {
     "data": {
      "text/plain": [
       "ID             0.053063\n",
       "Clump          0.328843\n",
       "UnifSize       0.468167\n",
       "UnifShape      0.456928\n",
       "MargAdh        0.312180\n",
       "SingEpiSize    0.356697\n",
       "BlandChrom     0.391347\n",
       "NormNucl       0.335569\n",
       "Mit            0.146002\n",
       "dtype: float64"
      ]
     },
     "execution_count": 23,
     "metadata": {},
     "output_type": "execute_result"
    }
   ],
   "source": [
    "mic_series"
   ]
  },
  {
   "cell_type": "code",
   "execution_count": 24,
   "id": "f2ca6c4d-6ddd-4529-8570-5b6d6c636399",
   "metadata": {},
   "outputs": [
    {
     "data": {
      "text/plain": [
       "UnifSize       0.468167\n",
       "UnifShape      0.456928\n",
       "BlandChrom     0.391347\n",
       "SingEpiSize    0.356697\n",
       "NormNucl       0.335569\n",
       "Clump          0.328843\n",
       "MargAdh        0.312180\n",
       "Mit            0.146002\n",
       "ID             0.053063\n",
       "dtype: float64"
      ]
     },
     "execution_count": 24,
     "metadata": {},
     "output_type": "execute_result"
    }
   ],
   "source": [
    "mic_series.sort_values(ascending=False)"
   ]
  },
  {
   "cell_type": "code",
   "execution_count": 25,
   "id": "01eacbf6-fe43-42df-a5d6-fe06b1b89161",
   "metadata": {},
   "outputs": [
    {
     "name": "stdout",
     "output_type": "stream",
     "text": [
      "ID 0.05306316222197416\n",
      "Mit 0.14600153783611658\n"
     ]
    }
   ],
   "source": [
    "removable_cl = []\n",
    "for i in mic_series.index:\n",
    "    if mic_series[i] < 0.2:\n",
    "        print(i, mic_series[i])\n",
    "        removable_cl.append(i)"
   ]
  },
  {
   "cell_type": "code",
   "execution_count": 26,
   "id": "7ad08974-7caa-4ab2-b46b-1bbccdd49c5c",
   "metadata": {},
   "outputs": [],
   "source": [
    "df.drop(removable_cl, axis=1, inplace=True)"
   ]
  },
  {
   "cell_type": "code",
   "execution_count": null,
   "id": "22bcc8d5-60da-49b0-bd0c-c7fad2f8d8a3",
   "metadata": {},
   "outputs": [],
   "source": []
  },
  {
   "cell_type": "code",
   "execution_count": 27,
   "id": "26d24316-e301-49b6-8098-045373e1e565",
   "metadata": {},
   "outputs": [],
   "source": [
    "# Converting into array"
   ]
  },
  {
   "cell_type": "code",
   "execution_count": 28,
   "id": "5ddbeeeb-fdf2-4d05-a713-06582e5ab5bd",
   "metadata": {},
   "outputs": [],
   "source": [
    "x = np.asarray(df)"
   ]
  },
  {
   "cell_type": "code",
   "execution_count": 29,
   "id": "2062af4d-823b-4ded-b923-90f8f79c61c4",
   "metadata": {},
   "outputs": [
    {
     "data": {
      "text/plain": [
       "array([[5, 1, 1, 1, 2, 3, 1],\n",
       "       [5, 4, 4, 5, 7, 3, 2],\n",
       "       [3, 1, 1, 1, 2, 3, 1],\n",
       "       [6, 8, 8, 1, 3, 3, 7],\n",
       "       [4, 1, 1, 3, 2, 3, 1]], dtype=int64)"
      ]
     },
     "execution_count": 29,
     "metadata": {},
     "output_type": "execute_result"
    }
   ],
   "source": [
    "x[0:5]"
   ]
  },
  {
   "cell_type": "code",
   "execution_count": 30,
   "id": "3be663e7-aa8b-4047-ac45-8f74e2ef038d",
   "metadata": {},
   "outputs": [],
   "source": [
    "y = np.asarray(cdf)"
   ]
  },
  {
   "cell_type": "code",
   "execution_count": 31,
   "id": "09ce64ad-300d-4239-8a4a-3f9950a2396c",
   "metadata": {},
   "outputs": [
    {
     "data": {
      "text/plain": [
       "array([2, 2, 2, 2, 2], dtype=int64)"
      ]
     },
     "execution_count": 31,
     "metadata": {},
     "output_type": "execute_result"
    }
   ],
   "source": [
    "y[0:5]"
   ]
  },
  {
   "cell_type": "code",
   "execution_count": null,
   "id": "2f411061-6d8f-44d2-bc70-d871cbbc73b7",
   "metadata": {},
   "outputs": [],
   "source": []
  },
  {
   "cell_type": "code",
   "execution_count": 32,
   "id": "bdff7df5-46d5-49f9-8801-b59d6423eee6",
   "metadata": {},
   "outputs": [],
   "source": [
    "#Applying SD"
   ]
  },
  {
   "cell_type": "code",
   "execution_count": 33,
   "id": "5aef4426-18b7-4674-b758-445f64cd4a81",
   "metadata": {},
   "outputs": [],
   "source": [
    "from sklearn import preprocessing "
   ]
  },
  {
   "cell_type": "code",
   "execution_count": 34,
   "id": "57c5a02e-8250-4bb9-89bb-b256b42f378e",
   "metadata": {},
   "outputs": [],
   "source": [
    "x = preprocessing.StandardScaler().fit_transform(x)"
   ]
  },
  {
   "cell_type": "code",
   "execution_count": null,
   "id": "8e258e0f-613d-42ae-ad42-3e0b59d7c0db",
   "metadata": {},
   "outputs": [],
   "source": []
  },
  {
   "cell_type": "code",
   "execution_count": 35,
   "id": "125932f5-f2c3-4338-99a3-603aab9fd40d",
   "metadata": {},
   "outputs": [],
   "source": [
    "# Creating Model"
   ]
  },
  {
   "cell_type": "code",
   "execution_count": 36,
   "id": "f02f6281-71e3-42df-974e-935416e55f7e",
   "metadata": {},
   "outputs": [],
   "source": [
    "from sklearn.model_selection import train_test_split\n",
    "x_train,x_test,y_train,y_test = train_test_split(x, y, test_size=0.2, random_state= 156) "
   ]
  },
  {
   "cell_type": "code",
   "execution_count": 37,
   "id": "86dd859d-c4a8-48af-8f44-bee7846ecc7a",
   "metadata": {},
   "outputs": [
    {
     "name": "stdout",
     "output_type": "stream",
     "text": [
      "Train status: (559, 7) (559,)\n",
      "Test status: (140, 7) (140,)\n"
     ]
    }
   ],
   "source": [
    "print('Train status:', x_train.shape, y_train.shape)\n",
    "print('Test status:', x_test.shape, y_test.shape)"
   ]
  },
  {
   "cell_type": "code",
   "execution_count": 38,
   "id": "928cbc12-271d-4cc6-9a75-b9df90585175",
   "metadata": {},
   "outputs": [],
   "source": [
    "from sklearn.svm import SVC "
   ]
  },
  {
   "cell_type": "code",
   "execution_count": 39,
   "id": "fcfb81dc-9683-4dcf-a1c0-f72d311d00fa",
   "metadata": {},
   "outputs": [
    {
     "data": {
      "text/plain": [
       "SVC(kernel='poly')"
      ]
     },
     "execution_count": 39,
     "metadata": {},
     "output_type": "execute_result"
    }
   ],
   "source": [
    "classifier = SVC(kernel='poly')\n",
    "classifier.fit(x_train, y_train)"
   ]
  },
  {
   "cell_type": "code",
   "execution_count": 40,
   "id": "85bc7601-359f-4efc-b6ab-c01634d21044",
   "metadata": {},
   "outputs": [],
   "source": [
    "y_pred = classifier.predict(x_test)"
   ]
  },
  {
   "cell_type": "code",
   "execution_count": 41,
   "id": "997322df-6e2a-48c5-9942-6295c1f0591d",
   "metadata": {},
   "outputs": [],
   "source": [
    "from sklearn.metrics import accuracy_score as acc"
   ]
  },
  {
   "cell_type": "code",
   "execution_count": 42,
   "id": "9329263d-9fed-4753-a9ba-55680c1717a7",
   "metadata": {},
   "outputs": [
    {
     "name": "stdout",
     "output_type": "stream",
     "text": [
      "Accuracy: 95.71428571428572\n"
     ]
    }
   ],
   "source": [
    "print(\"Accuracy:\", acc(y_test, y_pred)*100)"
   ]
  },
  {
   "cell_type": "code",
   "execution_count": null,
   "id": "e87a8f84-26e9-4344-afb5-f9addf29481f",
   "metadata": {},
   "outputs": [],
   "source": [
    "import pickle\n",
    "pickle.dump(classifier, open('model.pkl','wb'))"
   ]
  },
  {
   "cell_type": "code",
   "execution_count": null,
   "id": "b9c45d59-4ba1-49e7-83fb-cb6f141e914e",
   "metadata": {},
   "outputs": [],
   "source": []
  },
  {
   "cell_type": "code",
   "execution_count": null,
   "id": "3611742c-41b2-4718-814d-45ecb47ece88",
   "metadata": {},
   "outputs": [],
   "source": []
  },
  {
   "cell_type": "code",
   "execution_count": null,
   "id": "0c85250b-49de-4838-a307-8753f1501c4c",
   "metadata": {},
   "outputs": [],
   "source": []
  },
  {
   "cell_type": "code",
   "execution_count": null,
   "id": "3aaec406-bd98-4b8a-86e7-9fec93df6e32",
   "metadata": {},
   "outputs": [],
   "source": []
  },
  {
   "cell_type": "code",
   "execution_count": null,
   "id": "319d10fc-38c3-42ee-b82e-98c273a32fac",
   "metadata": {},
   "outputs": [],
   "source": []
  },
  {
   "cell_type": "code",
   "execution_count": null,
   "id": "bf4277b9-8771-4eaf-a9e4-f3cce435bcdf",
   "metadata": {},
   "outputs": [],
   "source": []
  },
  {
   "cell_type": "code",
   "execution_count": null,
   "id": "236ef91a-dd6d-49a1-8548-bd30a6e42770",
   "metadata": {},
   "outputs": [],
   "source": []
  },
  {
   "cell_type": "code",
   "execution_count": null,
   "id": "0940264d-a546-4b81-8213-66233526b02b",
   "metadata": {},
   "outputs": [],
   "source": []
  },
  {
   "cell_type": "code",
   "execution_count": null,
   "id": "a5420679-0eb4-421a-9340-8cd697bcc40a",
   "metadata": {},
   "outputs": [],
   "source": []
  },
  {
   "cell_type": "code",
   "execution_count": null,
   "id": "ed2cdad3-e2b8-41f9-b44c-c25cf9e12619",
   "metadata": {},
   "outputs": [],
   "source": []
  },
  {
   "cell_type": "code",
   "execution_count": null,
   "id": "587b3da9-1ac3-4aee-9a0c-9c81d206a3fd",
   "metadata": {},
   "outputs": [],
   "source": []
  }
 ],
 "metadata": {
  "kernelspec": {
   "display_name": "Python 3.9.13 ('base')",
   "language": "python",
   "name": "python3"
  },
  "language_info": {
   "codemirror_mode": {
    "name": "ipython",
    "version": 3
   },
   "file_extension": ".py",
   "mimetype": "text/x-python",
   "name": "python",
   "nbconvert_exporter": "python",
   "pygments_lexer": "ipython3",
   "version": "3.9.13"
  },
  "vscode": {
   "interpreter": {
    "hash": "0fb81e4dfa43580d432e7c4304fd8024a2072e9c18f9702b8ec5d84f16870407"
   }
  }
 },
 "nbformat": 4,
 "nbformat_minor": 5
}
